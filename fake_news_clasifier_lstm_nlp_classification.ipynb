{
  "metadata": {
    "kernelspec": {
      "language": "python",
      "display_name": "Python 3",
      "name": "python3"
    },
    "language_info": {
      "name": "python",
      "version": "3.7.6",
      "mimetype": "text/x-python",
      "codemirror_mode": {
        "name": "ipython",
        "version": 3
      },
      "pygments_lexer": "ipython3",
      "nbconvert_exporter": "python",
      "file_extension": ".py"
    },
    "colab": {
      "name": "fake-news-clasifier-lstm-nlp-classification.ipynb",
      "provenance": []
    },
    "accelerator": "GPU"
  },
  "nbformat_minor": 0,
  "nbformat": 4,
  "cells": [
    {
      "cell_type": "markdown",
      "source": [
        "# FAKE NEWS CLASSIFIER USING LSTM\n",
        "\n",
        "IN THIS NOTEBOOK WE WILL CLASSIFY WHETHER THE NEWS IS FAKE OR NOT USING LSTM MODEL.\n",
        "\n",
        "1--> REAL\n",
        "\n",
        "0--> FAKE\n",
        "\n",
        "WE WILL PERFORM SOME TEXT PREPROCESSING( STEMMING, REMOVAL OF STOP WORDS, CONVERTING TEXT INTO VECTORS)\n",
        "\n",
        "THEN WE WILL BUILD OUR LSTM MODEL TO CLASSIFY THE NEWS"
      ],
      "metadata": {
        "id": "F5vCmvB4dgVZ"
      }
    },
    {
      "cell_type": "code",
      "source": [
        "# IMPORTING LIBRARY\n",
        "import pandas as pd"
      ],
      "metadata": {
        "execution": {
          "iopub.status.busy": "2022-03-10T10:19:16.822279Z",
          "iopub.execute_input": "2022-03-10T10:19:16.822593Z",
          "iopub.status.idle": "2022-03-10T10:19:16.828173Z",
          "shell.execute_reply.started": "2022-03-10T10:19:16.822561Z",
          "shell.execute_reply": "2022-03-10T10:19:16.825466Z"
        },
        "trusted": true,
        "id": "NSaTP3tkdgVj"
      },
      "execution_count": 2,
      "outputs": []
    },
    {
      "cell_type": "code",
      "source": [
        "from google.colab import files\n",
        "files.upload()\n"
      ],
      "metadata": {
        "colab": {
          "resources": {
            "http://localhost:8080/nbextensions/google.colab/files.js": {
              "data": "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",
              "ok": true,
              "headers": [
                [
                  "content-type",
                  "application/javascript"
                ]
              ],
              "status": 200,
              "status_text": ""
            }
          },
          "base_uri": "https://localhost:8080/",
          "height": 73
        },
        "id": "ilWxn15YiC-n",
        "outputId": "8c41c00d-a157-4382-901a-0bcea8a6b689"
      },
      "execution_count": 5,
      "outputs": [
        {
          "output_type": "display_data",
          "data": {
            "text/html": [
              "\n",
              "     <input type=\"file\" id=\"files-6ac40063-a7b8-4daf-b36d-23010bce8e98\" name=\"files[]\" multiple disabled\n",
              "        style=\"border:none\" />\n",
              "     <output id=\"result-6ac40063-a7b8-4daf-b36d-23010bce8e98\">\n",
              "      Upload widget is only available when the cell has been executed in the\n",
              "      current browser session. Please rerun this cell to enable.\n",
              "      </output>\n",
              "      <script src=\"/nbextensions/google.colab/files.js\"></script> "
            ],
            "text/plain": [
              "<IPython.core.display.HTML object>"
            ]
          },
          "metadata": {}
        },
        {
          "output_type": "stream",
          "name": "stdout",
          "text": [
            "Saving My_compressed1.csv to My_compressed1.csv\n"
          ]
        }
      ]
    },
    {
      "cell_type": "code",
      "source": [
        "# OUR DATA FRAME\n",
        "df= pd.read_csv('My_compressed1.csv')\n",
        "df.head()"
      ],
      "metadata": {
        "execution": {
          "iopub.status.busy": "2022-03-10T10:19:16.862131Z",
          "iopub.execute_input": "2022-03-10T10:19:16.862507Z",
          "iopub.status.idle": "2022-03-10T10:19:41.115577Z",
          "shell.execute_reply.started": "2022-03-10T10:19:16.862474Z",
          "shell.execute_reply": "2022-03-10T10:19:41.114786Z"
        },
        "trusted": true,
        "colab": {
          "base_uri": "https://localhost:8080/",
          "height": 206
        },
        "id": "ACEKt-tKdgVl",
        "outputId": "7f9f9576-2937-4806-f5de-78d1f80b974d"
      },
      "execution_count": 6,
      "outputs": [
        {
          "output_type": "execute_result",
          "data": {
            "text/html": [
              "\n",
              "  <div id=\"df-fcaa35f3-d509-4396-8df0-28eb052cba3e\">\n",
              "    <div class=\"colab-df-container\">\n",
              "      <div>\n",
              "<style scoped>\n",
              "    .dataframe tbody tr th:only-of-type {\n",
              "        vertical-align: middle;\n",
              "    }\n",
              "\n",
              "    .dataframe tbody tr th {\n",
              "        vertical-align: top;\n",
              "    }\n",
              "\n",
              "    .dataframe thead th {\n",
              "        text-align: right;\n",
              "    }\n",
              "</style>\n",
              "<table border=\"1\" class=\"dataframe\">\n",
              "  <thead>\n",
              "    <tr style=\"text-align: right;\">\n",
              "      <th></th>\n",
              "      <th>content</th>\n",
              "      <th>type</th>\n",
              "    </tr>\n",
              "  </thead>\n",
              "  <tbody>\n",
              "    <tr>\n",
              "      <th>0</th>\n",
              "      <td>As if there was not enough to do to prepare fo...</td>\n",
              "      <td>reliable</td>\n",
              "    </tr>\n",
              "    <tr>\n",
              "      <th>1</th>\n",
              "      <td>World News | Tue Nov 22, 2016 | 11:54pm IST Ne...</td>\n",
              "      <td>reliable</td>\n",
              "    </tr>\n",
              "    <tr>\n",
              "      <th>2</th>\n",
              "      <td>WARNER--Robert, has been the single most influ...</td>\n",
              "      <td>reliable</td>\n",
              "    </tr>\n",
              "    <tr>\n",
              "      <th>3</th>\n",
              "      <td>Mr. Flynn added, ''What we have to refrain fro...</td>\n",
              "      <td>reliable</td>\n",
              "    </tr>\n",
              "    <tr>\n",
              "      <th>4</th>\n",
              "      <td>“Whatever this miraculous thing is that you’re...</td>\n",
              "      <td>reliable</td>\n",
              "    </tr>\n",
              "  </tbody>\n",
              "</table>\n",
              "</div>\n",
              "      <button class=\"colab-df-convert\" onclick=\"convertToInteractive('df-fcaa35f3-d509-4396-8df0-28eb052cba3e')\"\n",
              "              title=\"Convert this dataframe to an interactive table.\"\n",
              "              style=\"display:none;\">\n",
              "        \n",
              "  <svg xmlns=\"http://www.w3.org/2000/svg\" height=\"24px\"viewBox=\"0 0 24 24\"\n",
              "       width=\"24px\">\n",
              "    <path d=\"M0 0h24v24H0V0z\" fill=\"none\"/>\n",
              "    <path d=\"M18.56 5.44l.94 2.06.94-2.06 2.06-.94-2.06-.94-.94-2.06-.94 2.06-2.06.94zm-11 1L8.5 8.5l.94-2.06 2.06-.94-2.06-.94L8.5 2.5l-.94 2.06-2.06.94zm10 10l.94 2.06.94-2.06 2.06-.94-2.06-.94-.94-2.06-.94 2.06-2.06.94z\"/><path d=\"M17.41 7.96l-1.37-1.37c-.4-.4-.92-.59-1.43-.59-.52 0-1.04.2-1.43.59L10.3 9.45l-7.72 7.72c-.78.78-.78 2.05 0 2.83L4 21.41c.39.39.9.59 1.41.59.51 0 1.02-.2 1.41-.59l7.78-7.78 2.81-2.81c.8-.78.8-2.07 0-2.86zM5.41 20L4 18.59l7.72-7.72 1.47 1.35L5.41 20z\"/>\n",
              "  </svg>\n",
              "      </button>\n",
              "      \n",
              "  <style>\n",
              "    .colab-df-container {\n",
              "      display:flex;\n",
              "      flex-wrap:wrap;\n",
              "      gap: 12px;\n",
              "    }\n",
              "\n",
              "    .colab-df-convert {\n",
              "      background-color: #E8F0FE;\n",
              "      border: none;\n",
              "      border-radius: 50%;\n",
              "      cursor: pointer;\n",
              "      display: none;\n",
              "      fill: #1967D2;\n",
              "      height: 32px;\n",
              "      padding: 0 0 0 0;\n",
              "      width: 32px;\n",
              "    }\n",
              "\n",
              "    .colab-df-convert:hover {\n",
              "      background-color: #E2EBFA;\n",
              "      box-shadow: 0px 1px 2px rgba(60, 64, 67, 0.3), 0px 1px 3px 1px rgba(60, 64, 67, 0.15);\n",
              "      fill: #174EA6;\n",
              "    }\n",
              "\n",
              "    [theme=dark] .colab-df-convert {\n",
              "      background-color: #3B4455;\n",
              "      fill: #D2E3FC;\n",
              "    }\n",
              "\n",
              "    [theme=dark] .colab-df-convert:hover {\n",
              "      background-color: #434B5C;\n",
              "      box-shadow: 0px 1px 3px 1px rgba(0, 0, 0, 0.15);\n",
              "      filter: drop-shadow(0px 1px 2px rgba(0, 0, 0, 0.3));\n",
              "      fill: #FFFFFF;\n",
              "    }\n",
              "  </style>\n",
              "\n",
              "      <script>\n",
              "        const buttonEl =\n",
              "          document.querySelector('#df-fcaa35f3-d509-4396-8df0-28eb052cba3e button.colab-df-convert');\n",
              "        buttonEl.style.display =\n",
              "          google.colab.kernel.accessAllowed ? 'block' : 'none';\n",
              "\n",
              "        async function convertToInteractive(key) {\n",
              "          const element = document.querySelector('#df-fcaa35f3-d509-4396-8df0-28eb052cba3e');\n",
              "          const dataTable =\n",
              "            await google.colab.kernel.invokeFunction('convertToInteractive',\n",
              "                                                     [key], {});\n",
              "          if (!dataTable) return;\n",
              "\n",
              "          const docLinkHtml = 'Like what you see? Visit the ' +\n",
              "            '<a target=\"_blank\" href=https://colab.research.google.com/notebooks/data_table.ipynb>data table notebook</a>'\n",
              "            + ' to learn more about interactive tables.';\n",
              "          element.innerHTML = '';\n",
              "          dataTable['output_type'] = 'display_data';\n",
              "          await google.colab.output.renderOutput(dataTable, element);\n",
              "          const docLink = document.createElement('div');\n",
              "          docLink.innerHTML = docLinkHtml;\n",
              "          element.appendChild(docLink);\n",
              "        }\n",
              "      </script>\n",
              "    </div>\n",
              "  </div>\n",
              "  "
            ],
            "text/plain": [
              "                                             content      type\n",
              "0  As if there was not enough to do to prepare fo...  reliable\n",
              "1  World News | Tue Nov 22, 2016 | 11:54pm IST Ne...  reliable\n",
              "2  WARNER--Robert, has been the single most influ...  reliable\n",
              "3  Mr. Flynn added, ''What we have to refrain fro...  reliable\n",
              "4  “Whatever this miraculous thing is that you’re...  reliable"
            ]
          },
          "metadata": {},
          "execution_count": 6
        }
      ]
    },
    {
      "cell_type": "code",
      "source": [
        "df = df[[\"content\", 'type']]\n",
        "df"
      ],
      "metadata": {
        "execution": {
          "iopub.status.busy": "2022-03-10T10:19:41.117422Z",
          "iopub.execute_input": "2022-03-10T10:19:41.117698Z",
          "iopub.status.idle": "2022-03-10T10:19:41.152986Z",
          "shell.execute_reply.started": "2022-03-10T10:19:41.117671Z",
          "shell.execute_reply": "2022-03-10T10:19:41.151953Z"
        },
        "trusted": true,
        "colab": {
          "base_uri": "https://localhost:8080/",
          "height": 423
        },
        "id": "JFywfeM1dgVm",
        "outputId": "18198e87-e892-4426-e6b7-44c07c9ca232"
      },
      "execution_count": 7,
      "outputs": [
        {
          "output_type": "execute_result",
          "data": {
            "text/html": [
              "\n",
              "  <div id=\"df-e6386ea1-8ffc-40f2-8dd2-df3b6ff913dc\">\n",
              "    <div class=\"colab-df-container\">\n",
              "      <div>\n",
              "<style scoped>\n",
              "    .dataframe tbody tr th:only-of-type {\n",
              "        vertical-align: middle;\n",
              "    }\n",
              "\n",
              "    .dataframe tbody tr th {\n",
              "        vertical-align: top;\n",
              "    }\n",
              "\n",
              "    .dataframe thead th {\n",
              "        text-align: right;\n",
              "    }\n",
              "</style>\n",
              "<table border=\"1\" class=\"dataframe\">\n",
              "  <thead>\n",
              "    <tr style=\"text-align: right;\">\n",
              "      <th></th>\n",
              "      <th>content</th>\n",
              "      <th>type</th>\n",
              "    </tr>\n",
              "  </thead>\n",
              "  <tbody>\n",
              "    <tr>\n",
              "      <th>0</th>\n",
              "      <td>As if there was not enough to do to prepare fo...</td>\n",
              "      <td>reliable</td>\n",
              "    </tr>\n",
              "    <tr>\n",
              "      <th>1</th>\n",
              "      <td>World News | Tue Nov 22, 2016 | 11:54pm IST Ne...</td>\n",
              "      <td>reliable</td>\n",
              "    </tr>\n",
              "    <tr>\n",
              "      <th>2</th>\n",
              "      <td>WARNER--Robert, has been the single most influ...</td>\n",
              "      <td>reliable</td>\n",
              "    </tr>\n",
              "    <tr>\n",
              "      <th>3</th>\n",
              "      <td>Mr. Flynn added, ''What we have to refrain fro...</td>\n",
              "      <td>reliable</td>\n",
              "    </tr>\n",
              "    <tr>\n",
              "      <th>4</th>\n",
              "      <td>“Whatever this miraculous thing is that you’re...</td>\n",
              "      <td>reliable</td>\n",
              "    </tr>\n",
              "    <tr>\n",
              "      <th>...</th>\n",
              "      <td>...</td>\n",
              "      <td>...</td>\n",
              "    </tr>\n",
              "    <tr>\n",
              "      <th>19713</th>\n",
              "      <td>X22Report Central Banks Are Ready to Make a Mo...</td>\n",
              "      <td>fake</td>\n",
              "    </tr>\n",
              "    <tr>\n",
              "      <th>19714</th>\n",
              "      <td>This Congressional Hearing Will Blow You Away!...</td>\n",
              "      <td>fake</td>\n",
              "    </tr>\n",
              "    <tr>\n",
              "      <th>19715</th>\n",
              "      <td>Former Enemies Japan and Russia to Trade LNG?\\...</td>\n",
              "      <td>fake</td>\n",
              "    </tr>\n",
              "    <tr>\n",
              "      <th>19716</th>\n",
              "      <td>he Shocking Truth About Wall Street Stock Reco...</td>\n",
              "      <td>fake</td>\n",
              "    </tr>\n",
              "    <tr>\n",
              "      <th>19717</th>\n",
              "      <td>.Law Domains Won’t Boost Your Website’s SEO\\r\\...</td>\n",
              "      <td>fake</td>\n",
              "    </tr>\n",
              "  </tbody>\n",
              "</table>\n",
              "<p>19718 rows × 2 columns</p>\n",
              "</div>\n",
              "      <button class=\"colab-df-convert\" onclick=\"convertToInteractive('df-e6386ea1-8ffc-40f2-8dd2-df3b6ff913dc')\"\n",
              "              title=\"Convert this dataframe to an interactive table.\"\n",
              "              style=\"display:none;\">\n",
              "        \n",
              "  <svg xmlns=\"http://www.w3.org/2000/svg\" height=\"24px\"viewBox=\"0 0 24 24\"\n",
              "       width=\"24px\">\n",
              "    <path d=\"M0 0h24v24H0V0z\" fill=\"none\"/>\n",
              "    <path d=\"M18.56 5.44l.94 2.06.94-2.06 2.06-.94-2.06-.94-.94-2.06-.94 2.06-2.06.94zm-11 1L8.5 8.5l.94-2.06 2.06-.94-2.06-.94L8.5 2.5l-.94 2.06-2.06.94zm10 10l.94 2.06.94-2.06 2.06-.94-2.06-.94-.94-2.06-.94 2.06-2.06.94z\"/><path d=\"M17.41 7.96l-1.37-1.37c-.4-.4-.92-.59-1.43-.59-.52 0-1.04.2-1.43.59L10.3 9.45l-7.72 7.72c-.78.78-.78 2.05 0 2.83L4 21.41c.39.39.9.59 1.41.59.51 0 1.02-.2 1.41-.59l7.78-7.78 2.81-2.81c.8-.78.8-2.07 0-2.86zM5.41 20L4 18.59l7.72-7.72 1.47 1.35L5.41 20z\"/>\n",
              "  </svg>\n",
              "      </button>\n",
              "      \n",
              "  <style>\n",
              "    .colab-df-container {\n",
              "      display:flex;\n",
              "      flex-wrap:wrap;\n",
              "      gap: 12px;\n",
              "    }\n",
              "\n",
              "    .colab-df-convert {\n",
              "      background-color: #E8F0FE;\n",
              "      border: none;\n",
              "      border-radius: 50%;\n",
              "      cursor: pointer;\n",
              "      display: none;\n",
              "      fill: #1967D2;\n",
              "      height: 32px;\n",
              "      padding: 0 0 0 0;\n",
              "      width: 32px;\n",
              "    }\n",
              "\n",
              "    .colab-df-convert:hover {\n",
              "      background-color: #E2EBFA;\n",
              "      box-shadow: 0px 1px 2px rgba(60, 64, 67, 0.3), 0px 1px 3px 1px rgba(60, 64, 67, 0.15);\n",
              "      fill: #174EA6;\n",
              "    }\n",
              "\n",
              "    [theme=dark] .colab-df-convert {\n",
              "      background-color: #3B4455;\n",
              "      fill: #D2E3FC;\n",
              "    }\n",
              "\n",
              "    [theme=dark] .colab-df-convert:hover {\n",
              "      background-color: #434B5C;\n",
              "      box-shadow: 0px 1px 3px 1px rgba(0, 0, 0, 0.15);\n",
              "      filter: drop-shadow(0px 1px 2px rgba(0, 0, 0, 0.3));\n",
              "      fill: #FFFFFF;\n",
              "    }\n",
              "  </style>\n",
              "\n",
              "      <script>\n",
              "        const buttonEl =\n",
              "          document.querySelector('#df-e6386ea1-8ffc-40f2-8dd2-df3b6ff913dc button.colab-df-convert');\n",
              "        buttonEl.style.display =\n",
              "          google.colab.kernel.accessAllowed ? 'block' : 'none';\n",
              "\n",
              "        async function convertToInteractive(key) {\n",
              "          const element = document.querySelector('#df-e6386ea1-8ffc-40f2-8dd2-df3b6ff913dc');\n",
              "          const dataTable =\n",
              "            await google.colab.kernel.invokeFunction('convertToInteractive',\n",
              "                                                     [key], {});\n",
              "          if (!dataTable) return;\n",
              "\n",
              "          const docLinkHtml = 'Like what you see? Visit the ' +\n",
              "            '<a target=\"_blank\" href=https://colab.research.google.com/notebooks/data_table.ipynb>data table notebook</a>'\n",
              "            + ' to learn more about interactive tables.';\n",
              "          element.innerHTML = '';\n",
              "          dataTable['output_type'] = 'display_data';\n",
              "          await google.colab.output.renderOutput(dataTable, element);\n",
              "          const docLink = document.createElement('div');\n",
              "          docLink.innerHTML = docLinkHtml;\n",
              "          element.appendChild(docLink);\n",
              "        }\n",
              "      </script>\n",
              "    </div>\n",
              "  </div>\n",
              "  "
            ],
            "text/plain": [
              "                                                 content      type\n",
              "0      As if there was not enough to do to prepare fo...  reliable\n",
              "1      World News | Tue Nov 22, 2016 | 11:54pm IST Ne...  reliable\n",
              "2      WARNER--Robert, has been the single most influ...  reliable\n",
              "3      Mr. Flynn added, ''What we have to refrain fro...  reliable\n",
              "4      “Whatever this miraculous thing is that you’re...  reliable\n",
              "...                                                  ...       ...\n",
              "19713  X22Report Central Banks Are Ready to Make a Mo...      fake\n",
              "19714  This Congressional Hearing Will Blow You Away!...      fake\n",
              "19715  Former Enemies Japan and Russia to Trade LNG?\\...      fake\n",
              "19716  he Shocking Truth About Wall Street Stock Reco...      fake\n",
              "19717  .Law Domains Won’t Boost Your Website’s SEO\\r\\...      fake\n",
              "\n",
              "[19718 rows x 2 columns]"
            ]
          },
          "metadata": {},
          "execution_count": 7
        }
      ]
    },
    {
      "cell_type": "code",
      "source": [
        "df['type'].value_counts()"
      ],
      "metadata": {
        "execution": {
          "iopub.status.busy": "2022-03-10T10:19:41.154573Z",
          "iopub.execute_input": "2022-03-10T10:19:41.155092Z",
          "iopub.status.idle": "2022-03-10T10:19:41.257123Z",
          "shell.execute_reply.started": "2022-03-10T10:19:41.155050Z",
          "shell.execute_reply": "2022-03-10T10:19:41.256140Z"
        },
        "trusted": true,
        "id": "ALTcSYm8dgVn"
      },
      "execution_count": null,
      "outputs": []
    },
    {
      "cell_type": "code",
      "source": [
        "df_sample = df"
      ],
      "metadata": {
        "id": "RLkua19xocZZ"
      },
      "execution_count": 10,
      "outputs": []
    },
    {
      "cell_type": "code",
      "source": [
        "# df_sample = df.sample(frac =0.1)\n"
      ],
      "metadata": {
        "execution": {
          "iopub.status.busy": "2022-03-10T10:19:41.259048Z",
          "iopub.execute_input": "2022-03-10T10:19:41.259704Z",
          "iopub.status.idle": "2022-03-10T10:19:41.298212Z",
          "shell.execute_reply.started": "2022-03-10T10:19:41.259661Z",
          "shell.execute_reply": "2022-03-10T10:19:41.296792Z"
        },
        "trusted": true,
        "id": "miXXyKegdgVo"
      },
      "execution_count": null,
      "outputs": []
    },
    {
      "cell_type": "code",
      "source": [
        "df_sample.shape"
      ],
      "metadata": {
        "execution": {
          "iopub.status.busy": "2022-03-10T10:19:41.303132Z",
          "iopub.execute_input": "2022-03-10T10:19:41.303409Z",
          "iopub.status.idle": "2022-03-10T10:19:41.309947Z",
          "shell.execute_reply.started": "2022-03-10T10:19:41.303382Z",
          "shell.execute_reply": "2022-03-10T10:19:41.309023Z"
        },
        "trusted": true,
        "colab": {
          "base_uri": "https://localhost:8080/"
        },
        "id": "AR4Emh7OdgVp",
        "outputId": "fdf24668-bbc8-4b12-9c40-4599873283ba"
      },
      "execution_count": 11,
      "outputs": [
        {
          "output_type": "execute_result",
          "data": {
            "text/plain": [
              "(19718, 2)"
            ]
          },
          "metadata": {},
          "execution_count": 11
        }
      ]
    },
    {
      "cell_type": "code",
      "source": [
        "df_sample.type.value_counts()\n",
        "df_sample"
      ],
      "metadata": {
        "execution": {
          "iopub.status.busy": "2022-03-10T10:19:41.313801Z",
          "iopub.execute_input": "2022-03-10T10:19:41.314625Z",
          "iopub.status.idle": "2022-03-10T10:19:41.337962Z",
          "shell.execute_reply.started": "2022-03-10T10:19:41.314582Z",
          "shell.execute_reply": "2022-03-10T10:19:41.337031Z"
        },
        "trusted": true,
        "id": "HDcfFU2ldgVr"
      },
      "execution_count": null,
      "outputs": []
    },
    {
      "cell_type": "code",
      "source": [
        "df_0 = df_sample[df_sample['type'] == 'reliable']\n",
        "df_0.shape"
      ],
      "metadata": {
        "execution": {
          "iopub.status.busy": "2022-03-10T10:19:41.339819Z",
          "iopub.execute_input": "2022-03-10T10:19:41.340227Z",
          "iopub.status.idle": "2022-03-10T10:19:41.354283Z",
          "shell.execute_reply.started": "2022-03-10T10:19:41.340187Z",
          "shell.execute_reply": "2022-03-10T10:19:41.353176Z"
        },
        "trusted": true,
        "colab": {
          "base_uri": "https://localhost:8080/"
        },
        "id": "WWZVR7djdgVt",
        "outputId": "8b5b4008-5a69-491f-c7cc-8614b0edb1e0"
      },
      "execution_count": 12,
      "outputs": [
        {
          "output_type": "execute_result",
          "data": {
            "text/plain": [
              "(9549, 2)"
            ]
          },
          "metadata": {},
          "execution_count": 12
        }
      ]
    },
    {
      "cell_type": "code",
      "source": [
        "df_1 = df_sample[df_sample['type'] == 'bias']\n",
        "print(df_1.shape)\n",
        "df_2 = df_sample[df_sample['type'] == 'fake']\n",
        "print(df_2.shape)\n",
        "df3 = pd.concat([df_1, df_2], axis=0)\n",
        "df3 = df3.reset_index()\n",
        "df3 = df3.copy()\n",
        "df3"
      ],
      "metadata": {
        "execution": {
          "iopub.status.busy": "2022-03-10T10:19:41.355982Z",
          "iopub.execute_input": "2022-03-10T10:19:41.356337Z",
          "iopub.status.idle": "2022-03-10T10:19:41.390415Z",
          "shell.execute_reply.started": "2022-03-10T10:19:41.356302Z",
          "shell.execute_reply": "2022-03-10T10:19:41.389607Z"
        },
        "trusted": true,
        "colab": {
          "base_uri": "https://localhost:8080/",
          "height": 458
        },
        "id": "-CPx9FcodgVu",
        "outputId": "1c4f698b-b279-47aa-e923-55b9230a3e54"
      },
      "execution_count": 13,
      "outputs": [
        {
          "output_type": "stream",
          "name": "stdout",
          "text": [
            "(5772, 2)\n",
            "(4397, 2)\n"
          ]
        },
        {
          "output_type": "execute_result",
          "data": {
            "text/html": [
              "\n",
              "  <div id=\"df-25cc9859-866d-4d8b-be42-7a655788d633\">\n",
              "    <div class=\"colab-df-container\">\n",
              "      <div>\n",
              "<style scoped>\n",
              "    .dataframe tbody tr th:only-of-type {\n",
              "        vertical-align: middle;\n",
              "    }\n",
              "\n",
              "    .dataframe tbody tr th {\n",
              "        vertical-align: top;\n",
              "    }\n",
              "\n",
              "    .dataframe thead th {\n",
              "        text-align: right;\n",
              "    }\n",
              "</style>\n",
              "<table border=\"1\" class=\"dataframe\">\n",
              "  <thead>\n",
              "    <tr style=\"text-align: right;\">\n",
              "      <th></th>\n",
              "      <th>index</th>\n",
              "      <th>content</th>\n",
              "      <th>type</th>\n",
              "    </tr>\n",
              "  </thead>\n",
              "  <tbody>\n",
              "    <tr>\n",
              "      <th>0</th>\n",
              "      <td>9549</td>\n",
              "      <td>Mark Steyn to Tucker Carlson: Canadians Can Be...</td>\n",
              "      <td>bias</td>\n",
              "    </tr>\n",
              "    <tr>\n",
              "      <th>1</th>\n",
              "      <td>9550</td>\n",
              "      <td>FAIR USE NOTICE. Many of the stories on this s...</td>\n",
              "      <td>bias</td>\n",
              "    </tr>\n",
              "    <tr>\n",
              "      <th>2</th>\n",
              "      <td>9551</td>\n",
              "      <td>(CNSNews.com) – The president’s budget require...</td>\n",
              "      <td>bias</td>\n",
              "    </tr>\n",
              "    <tr>\n",
              "      <th>3</th>\n",
              "      <td>9552</td>\n",
              "      <td>During an appearance before the U.K.’s House o...</td>\n",
              "      <td>bias</td>\n",
              "    </tr>\n",
              "    <tr>\n",
              "      <th>4</th>\n",
              "      <td>9553</td>\n",
              "      <td>Ice collected from Greenland will be displayed...</td>\n",
              "      <td>bias</td>\n",
              "    </tr>\n",
              "    <tr>\n",
              "      <th>...</th>\n",
              "      <td>...</td>\n",
              "      <td>...</td>\n",
              "      <td>...</td>\n",
              "    </tr>\n",
              "    <tr>\n",
              "      <th>10164</th>\n",
              "      <td>19713</td>\n",
              "      <td>X22Report Central Banks Are Ready to Make a Mo...</td>\n",
              "      <td>fake</td>\n",
              "    </tr>\n",
              "    <tr>\n",
              "      <th>10165</th>\n",
              "      <td>19714</td>\n",
              "      <td>This Congressional Hearing Will Blow You Away!...</td>\n",
              "      <td>fake</td>\n",
              "    </tr>\n",
              "    <tr>\n",
              "      <th>10166</th>\n",
              "      <td>19715</td>\n",
              "      <td>Former Enemies Japan and Russia to Trade LNG?\\...</td>\n",
              "      <td>fake</td>\n",
              "    </tr>\n",
              "    <tr>\n",
              "      <th>10167</th>\n",
              "      <td>19716</td>\n",
              "      <td>he Shocking Truth About Wall Street Stock Reco...</td>\n",
              "      <td>fake</td>\n",
              "    </tr>\n",
              "    <tr>\n",
              "      <th>10168</th>\n",
              "      <td>19717</td>\n",
              "      <td>.Law Domains Won’t Boost Your Website’s SEO\\r\\...</td>\n",
              "      <td>fake</td>\n",
              "    </tr>\n",
              "  </tbody>\n",
              "</table>\n",
              "<p>10169 rows × 3 columns</p>\n",
              "</div>\n",
              "      <button class=\"colab-df-convert\" onclick=\"convertToInteractive('df-25cc9859-866d-4d8b-be42-7a655788d633')\"\n",
              "              title=\"Convert this dataframe to an interactive table.\"\n",
              "              style=\"display:none;\">\n",
              "        \n",
              "  <svg xmlns=\"http://www.w3.org/2000/svg\" height=\"24px\"viewBox=\"0 0 24 24\"\n",
              "       width=\"24px\">\n",
              "    <path d=\"M0 0h24v24H0V0z\" fill=\"none\"/>\n",
              "    <path d=\"M18.56 5.44l.94 2.06.94-2.06 2.06-.94-2.06-.94-.94-2.06-.94 2.06-2.06.94zm-11 1L8.5 8.5l.94-2.06 2.06-.94-2.06-.94L8.5 2.5l-.94 2.06-2.06.94zm10 10l.94 2.06.94-2.06 2.06-.94-2.06-.94-.94-2.06-.94 2.06-2.06.94z\"/><path d=\"M17.41 7.96l-1.37-1.37c-.4-.4-.92-.59-1.43-.59-.52 0-1.04.2-1.43.59L10.3 9.45l-7.72 7.72c-.78.78-.78 2.05 0 2.83L4 21.41c.39.39.9.59 1.41.59.51 0 1.02-.2 1.41-.59l7.78-7.78 2.81-2.81c.8-.78.8-2.07 0-2.86zM5.41 20L4 18.59l7.72-7.72 1.47 1.35L5.41 20z\"/>\n",
              "  </svg>\n",
              "      </button>\n",
              "      \n",
              "  <style>\n",
              "    .colab-df-container {\n",
              "      display:flex;\n",
              "      flex-wrap:wrap;\n",
              "      gap: 12px;\n",
              "    }\n",
              "\n",
              "    .colab-df-convert {\n",
              "      background-color: #E8F0FE;\n",
              "      border: none;\n",
              "      border-radius: 50%;\n",
              "      cursor: pointer;\n",
              "      display: none;\n",
              "      fill: #1967D2;\n",
              "      height: 32px;\n",
              "      padding: 0 0 0 0;\n",
              "      width: 32px;\n",
              "    }\n",
              "\n",
              "    .colab-df-convert:hover {\n",
              "      background-color: #E2EBFA;\n",
              "      box-shadow: 0px 1px 2px rgba(60, 64, 67, 0.3), 0px 1px 3px 1px rgba(60, 64, 67, 0.15);\n",
              "      fill: #174EA6;\n",
              "    }\n",
              "\n",
              "    [theme=dark] .colab-df-convert {\n",
              "      background-color: #3B4455;\n",
              "      fill: #D2E3FC;\n",
              "    }\n",
              "\n",
              "    [theme=dark] .colab-df-convert:hover {\n",
              "      background-color: #434B5C;\n",
              "      box-shadow: 0px 1px 3px 1px rgba(0, 0, 0, 0.15);\n",
              "      filter: drop-shadow(0px 1px 2px rgba(0, 0, 0, 0.3));\n",
              "      fill: #FFFFFF;\n",
              "    }\n",
              "  </style>\n",
              "\n",
              "      <script>\n",
              "        const buttonEl =\n",
              "          document.querySelector('#df-25cc9859-866d-4d8b-be42-7a655788d633 button.colab-df-convert');\n",
              "        buttonEl.style.display =\n",
              "          google.colab.kernel.accessAllowed ? 'block' : 'none';\n",
              "\n",
              "        async function convertToInteractive(key) {\n",
              "          const element = document.querySelector('#df-25cc9859-866d-4d8b-be42-7a655788d633');\n",
              "          const dataTable =\n",
              "            await google.colab.kernel.invokeFunction('convertToInteractive',\n",
              "                                                     [key], {});\n",
              "          if (!dataTable) return;\n",
              "\n",
              "          const docLinkHtml = 'Like what you see? Visit the ' +\n",
              "            '<a target=\"_blank\" href=https://colab.research.google.com/notebooks/data_table.ipynb>data table notebook</a>'\n",
              "            + ' to learn more about interactive tables.';\n",
              "          element.innerHTML = '';\n",
              "          dataTable['output_type'] = 'display_data';\n",
              "          await google.colab.output.renderOutput(dataTable, element);\n",
              "          const docLink = document.createElement('div');\n",
              "          docLink.innerHTML = docLinkHtml;\n",
              "          element.appendChild(docLink);\n",
              "        }\n",
              "      </script>\n",
              "    </div>\n",
              "  </div>\n",
              "  "
            ],
            "text/plain": [
              "       index                                            content  type\n",
              "0       9549  Mark Steyn to Tucker Carlson: Canadians Can Be...  bias\n",
              "1       9550  FAIR USE NOTICE. Many of the stories on this s...  bias\n",
              "2       9551  (CNSNews.com) – The president’s budget require...  bias\n",
              "3       9552  During an appearance before the U.K.’s House o...  bias\n",
              "4       9553  Ice collected from Greenland will be displayed...  bias\n",
              "...      ...                                                ...   ...\n",
              "10164  19713  X22Report Central Banks Are Ready to Make a Mo...  fake\n",
              "10165  19714  This Congressional Hearing Will Blow You Away!...  fake\n",
              "10166  19715  Former Enemies Japan and Russia to Trade LNG?\\...  fake\n",
              "10167  19716  he Shocking Truth About Wall Street Stock Reco...  fake\n",
              "10168  19717  .Law Domains Won’t Boost Your Website’s SEO\\r\\...  fake\n",
              "\n",
              "[10169 rows x 3 columns]"
            ]
          },
          "metadata": {},
          "execution_count": 13
        }
      ]
    },
    {
      "cell_type": "code",
      "source": [
        "df_new = pd.concat([df_0, df3] ,axis=0)\n",
        "df_new.drop(columns=df_new.columns[-1], \n",
        "        axis=1, \n",
        "        inplace=True)\n",
        "df_new.shape"
      ],
      "metadata": {
        "execution": {
          "iopub.status.busy": "2022-03-10T10:19:56.647408Z",
          "iopub.execute_input": "2022-03-10T10:19:56.647907Z",
          "iopub.status.idle": "2022-03-10T10:19:56.661106Z",
          "shell.execute_reply.started": "2022-03-10T10:19:56.647871Z",
          "shell.execute_reply": "2022-03-10T10:19:56.660126Z"
        },
        "trusted": true,
        "colab": {
          "base_uri": "https://localhost:8080/"
        },
        "id": "ys1fVCEkdgVv",
        "outputId": "a04ed076-f7f0-47d5-90cd-c6e18bdb38a9"
      },
      "execution_count": 14,
      "outputs": [
        {
          "output_type": "execute_result",
          "data": {
            "text/plain": [
              "(19718, 2)"
            ]
          },
          "metadata": {},
          "execution_count": 14
        }
      ]
    },
    {
      "cell_type": "code",
      "source": [
        "print(df_0.shape)\n",
        "print(df_1.shape)\n",
        "print(df_2.shape)\n",
        "print(df_new.shape)"
      ],
      "metadata": {
        "execution": {
          "iopub.status.busy": "2022-03-10T10:19:59.937247Z",
          "iopub.execute_input": "2022-03-10T10:19:59.937608Z",
          "iopub.status.idle": "2022-03-10T10:19:59.944203Z",
          "shell.execute_reply.started": "2022-03-10T10:19:59.937576Z",
          "shell.execute_reply": "2022-03-10T10:19:59.943274Z"
        },
        "trusted": true,
        "colab": {
          "base_uri": "https://localhost:8080/"
        },
        "id": "M2KC0FAqdgVw",
        "outputId": "8959948b-a9bb-43c3-934e-6c10e835360f"
      },
      "execution_count": 15,
      "outputs": [
        {
          "output_type": "stream",
          "name": "stdout",
          "text": [
            "(9549, 2)\n",
            "(5772, 2)\n",
            "(4397, 2)\n",
            "(19718, 2)\n"
          ]
        }
      ]
    },
    {
      "cell_type": "code",
      "source": [
        ""
      ],
      "metadata": {
        "trusted": true,
        "id": "lYpUdK3jdgVx"
      },
      "execution_count": null,
      "outputs": []
    },
    {
      "cell_type": "code",
      "source": [
        "df = df_new\n",
        "df.shape"
      ],
      "metadata": {
        "execution": {
          "iopub.status.busy": "2022-03-10T10:20:00.316758Z",
          "iopub.execute_input": "2022-03-10T10:20:00.317088Z",
          "iopub.status.idle": "2022-03-10T10:20:00.322661Z",
          "shell.execute_reply.started": "2022-03-10T10:20:00.317057Z",
          "shell.execute_reply": "2022-03-10T10:20:00.321587Z"
        },
        "trusted": true,
        "colab": {
          "base_uri": "https://localhost:8080/"
        },
        "id": "JuqrgTBddgVx",
        "outputId": "61fb6cb7-4906-4ebd-b1b5-415a0f1b1680"
      },
      "execution_count": 17,
      "outputs": [
        {
          "output_type": "execute_result",
          "data": {
            "text/plain": [
              "(19718, 2)"
            ]
          },
          "metadata": {},
          "execution_count": 17
        }
      ]
    },
    {
      "cell_type": "code",
      "source": [
        "df.type.value_counts()"
      ],
      "metadata": {
        "execution": {
          "iopub.status.busy": "2022-03-10T10:20:00.481534Z",
          "iopub.execute_input": "2022-03-10T10:20:00.481786Z",
          "iopub.status.idle": "2022-03-10T10:20:00.494747Z",
          "shell.execute_reply.started": "2022-03-10T10:20:00.481760Z",
          "shell.execute_reply": "2022-03-10T10:20:00.493920Z"
        },
        "trusted": true,
        "colab": {
          "base_uri": "https://localhost:8080/"
        },
        "id": "6nPJpcTudgVy",
        "outputId": "6e735e4f-fc8d-4f42-fb72-b76022d04395"
      },
      "execution_count": 18,
      "outputs": [
        {
          "output_type": "execute_result",
          "data": {
            "text/plain": [
              "reliable    9549\n",
              "bias        5772\n",
              "fake        4397\n",
              "Name: type, dtype: int64"
            ]
          },
          "metadata": {},
          "execution_count": 18
        }
      ]
    },
    {
      "cell_type": "code",
      "source": [
        "df.type = df.type.replace(\"bias\", \"fake\")\n",
        "df.type.value_counts()"
      ],
      "metadata": {
        "execution": {
          "iopub.status.busy": "2022-03-10T10:20:00.631657Z",
          "iopub.execute_input": "2022-03-10T10:20:00.631951Z",
          "iopub.status.idle": "2022-03-10T10:20:00.646477Z",
          "shell.execute_reply.started": "2022-03-10T10:20:00.631907Z",
          "shell.execute_reply": "2022-03-10T10:20:00.644976Z"
        },
        "trusted": true,
        "colab": {
          "base_uri": "https://localhost:8080/"
        },
        "id": "jNdEr69QdgVy",
        "outputId": "b80ab334-513f-46b2-89c2-33e22e058eac"
      },
      "execution_count": 19,
      "outputs": [
        {
          "output_type": "execute_result",
          "data": {
            "text/plain": [
              "fake        10169\n",
              "reliable     9549\n",
              "Name: type, dtype: int64"
            ]
          },
          "metadata": {},
          "execution_count": 19
        }
      ]
    },
    {
      "cell_type": "code",
      "source": [
        "df.type = df.type.replace('fake', 0).replace('reliable',1)"
      ],
      "metadata": {
        "id": "eRcUXihqtp7O"
      },
      "execution_count": 55,
      "outputs": []
    },
    {
      "cell_type": "code",
      "source": [
        "df.type"
      ],
      "metadata": {
        "colab": {
          "base_uri": "https://localhost:8080/"
        },
        "id": "sqFcwsWXuCfY",
        "outputId": "d1e644a8-3e14-4b10-8e65-f152ce60d598"
      },
      "execution_count": 56,
      "outputs": [
        {
          "output_type": "execute_result",
          "data": {
            "text/plain": [
              "0        1\n",
              "1        1\n",
              "2        1\n",
              "3        1\n",
              "4        1\n",
              "        ..\n",
              "10164    0\n",
              "10165    0\n",
              "10166    0\n",
              "10167    0\n",
              "10168    0\n",
              "Name: type, Length: 19718, dtype: int64"
            ]
          },
          "metadata": {},
          "execution_count": 56
        }
      ]
    },
    {
      "cell_type": "code",
      "source": [
        "max_size = 50\n",
        "df['content'] = df['content'].apply(lambda x: ' '.join(x.split(maxsplit=max_size)[:max_size]))\n",
        "df['content'][12]"
      ],
      "metadata": {
        "execution": {
          "iopub.status.busy": "2022-03-10T10:20:00.831628Z",
          "iopub.execute_input": "2022-03-10T10:20:00.831897Z",
          "iopub.status.idle": "2022-03-10T10:20:00.974800Z",
          "shell.execute_reply.started": "2022-03-10T10:20:00.831870Z",
          "shell.execute_reply": "2022-03-10T10:20:00.973940Z"
        },
        "trusted": true,
        "colab": {
          "base_uri": "https://localhost:8080/"
        },
        "id": "nwQ4dm7OdgVz",
        "outputId": "b99abda7-e0b2-4c03-eed0-6cd9737c29d3"
      },
      "execution_count": 21,
      "outputs": [
        {
          "output_type": "execute_result",
          "data": {
            "text/plain": [
              "12    Goldman now faces a choice between two distinc...\n",
              "12    E-mail: Screen Name: Password: Confirm passwor...\n",
              "Name: content, dtype: object"
            ]
          },
          "metadata": {},
          "execution_count": 21
        }
      ]
    },
    {
      "cell_type": "code",
      "source": [
        "## GETTING INDEPENDENT FEATURES\n",
        "x= df.drop('type',axis=1)"
      ],
      "metadata": {
        "execution": {
          "iopub.status.busy": "2022-03-10T10:20:01.021766Z",
          "iopub.execute_input": "2022-03-10T10:20:01.022056Z",
          "iopub.status.idle": "2022-03-10T10:20:01.028626Z",
          "shell.execute_reply.started": "2022-03-10T10:20:01.022024Z",
          "shell.execute_reply": "2022-03-10T10:20:01.027888Z"
        },
        "trusted": true,
        "id": "BSVV7zc0dgVz"
      },
      "execution_count": 22,
      "outputs": []
    },
    {
      "cell_type": "code",
      "source": [
        "# DEPENDENT FEATURE OR TARGET FEATURE\n",
        "y=df['type']"
      ],
      "metadata": {
        "execution": {
          "iopub.status.busy": "2022-03-10T10:20:01.171359Z",
          "iopub.execute_input": "2022-03-10T10:20:01.171749Z",
          "iopub.status.idle": "2022-03-10T10:20:01.175671Z",
          "shell.execute_reply.started": "2022-03-10T10:20:01.171716Z",
          "shell.execute_reply": "2022-03-10T10:20:01.174775Z"
        },
        "trusted": true,
        "id": "gPKjkRTidgV0"
      },
      "execution_count": 57,
      "outputs": []
    },
    {
      "cell_type": "code",
      "source": [
        "# LOOKING AT THE SHAPE OF OUR IINDEPENDENT FEATURES DATASET\n",
        "x.shape"
      ],
      "metadata": {
        "execution": {
          "iopub.status.busy": "2022-03-10T10:20:01.341334Z",
          "iopub.execute_input": "2022-03-10T10:20:01.341583Z",
          "iopub.status.idle": "2022-03-10T10:20:01.347273Z",
          "shell.execute_reply.started": "2022-03-10T10:20:01.341557Z",
          "shell.execute_reply": "2022-03-10T10:20:01.346351Z"
        },
        "trusted": true,
        "colab": {
          "base_uri": "https://localhost:8080/"
        },
        "id": "3dmMIBRjdgV0",
        "outputId": "66f8b278-c539-4cc8-8ee5-ab92f4b05370"
      },
      "execution_count": 24,
      "outputs": [
        {
          "output_type": "execute_result",
          "data": {
            "text/plain": [
              "(19718, 1)"
            ]
          },
          "metadata": {},
          "execution_count": 24
        }
      ]
    },
    {
      "cell_type": "code",
      "source": [
        "# LOOKING AT THE SHAPE OF OUR DEPENDENT FEATURE\n",
        "y.shape"
      ],
      "metadata": {
        "execution": {
          "iopub.status.busy": "2022-03-10T10:20:01.511674Z",
          "iopub.execute_input": "2022-03-10T10:20:01.511943Z",
          "iopub.status.idle": "2022-03-10T10:20:01.517067Z",
          "shell.execute_reply.started": "2022-03-10T10:20:01.511903Z",
          "shell.execute_reply": "2022-03-10T10:20:01.516103Z"
        },
        "trusted": true,
        "colab": {
          "base_uri": "https://localhost:8080/"
        },
        "id": "0cvv5c5ZdgV1",
        "outputId": "fb5ee939-e2ea-48d0-a25a-aaa6df09bca5"
      },
      "execution_count": 60,
      "outputs": [
        {
          "output_type": "execute_result",
          "data": {
            "text/plain": [
              "(19718,)"
            ]
          },
          "metadata": {},
          "execution_count": 60
        }
      ]
    },
    {
      "cell_type": "code",
      "source": [
        "y"
      ],
      "metadata": {
        "id": "wumgVjuutich"
      },
      "execution_count": null,
      "outputs": []
    },
    {
      "cell_type": "code",
      "source": [
        "# IMPORTING MORE NECESSARY LIBRARIES\n",
        "from tensorflow.keras.layers import Embedding\n",
        "from tensorflow.keras.preprocessing.sequence import pad_sequences\n",
        "from tensorflow.keras.models import Sequential\n",
        "from tensorflow.keras.layers import LSTM\n",
        "from tensorflow.keras.layers import Dense"
      ],
      "metadata": {
        "execution": {
          "iopub.status.busy": "2022-03-10T10:20:01.711780Z",
          "iopub.execute_input": "2022-03-10T10:20:01.712098Z",
          "iopub.status.idle": "2022-03-10T10:20:01.717355Z",
          "shell.execute_reply.started": "2022-03-10T10:20:01.712068Z",
          "shell.execute_reply": "2022-03-10T10:20:01.716318Z"
        },
        "trusted": true,
        "id": "lbMeahPtdgV1"
      },
      "execution_count": 26,
      "outputs": []
    },
    {
      "cell_type": "code",
      "source": [
        "# vocabularry size\n",
        "voc_size=4000"
      ],
      "metadata": {
        "execution": {
          "iopub.status.busy": "2022-03-10T10:20:01.876579Z",
          "iopub.execute_input": "2022-03-10T10:20:01.876853Z",
          "iopub.status.idle": "2022-03-10T10:20:01.880770Z",
          "shell.execute_reply.started": "2022-03-10T10:20:01.876826Z",
          "shell.execute_reply": "2022-03-10T10:20:01.879732Z"
        },
        "trusted": true,
        "id": "WF5GXKkudgV2"
      },
      "execution_count": 27,
      "outputs": []
    },
    {
      "cell_type": "markdown",
      "source": [
        "# NATURAL LANGUAGE PROCESSING"
      ],
      "metadata": {
        "id": "ZszvAtQcdgV2"
      }
    },
    {
      "cell_type": "code",
      "source": [
        "# COPYING OUR INDEPENDENT FEATURE DATASET 'x' INTO NEW VARIABLE 'messages'\n",
        "messages= x.copy()"
      ],
      "metadata": {
        "execution": {
          "iopub.status.busy": "2022-03-10T10:20:02.196972Z",
          "iopub.execute_input": "2022-03-10T10:20:02.197266Z",
          "iopub.status.idle": "2022-03-10T10:20:02.202891Z",
          "shell.execute_reply.started": "2022-03-10T10:20:02.197240Z",
          "shell.execute_reply": "2022-03-10T10:20:02.201880Z"
        },
        "trusted": true,
        "id": "_TsC1xlndgV3"
      },
      "execution_count": 28,
      "outputs": []
    },
    {
      "cell_type": "code",
      "source": [
        "# RESETTING THE INDEX VALUES\n",
        "messages.reset_index(inplace=True)"
      ],
      "metadata": {
        "execution": {
          "iopub.status.busy": "2022-03-10T10:20:02.712339Z",
          "iopub.execute_input": "2022-03-10T10:20:02.712701Z",
          "iopub.status.idle": "2022-03-10T10:20:02.718443Z",
          "shell.execute_reply.started": "2022-03-10T10:20:02.712667Z",
          "shell.execute_reply": "2022-03-10T10:20:02.717394Z"
        },
        "trusted": true,
        "id": "BNr35UyrdgV3"
      },
      "execution_count": 29,
      "outputs": []
    },
    {
      "cell_type": "code",
      "source": [
        "# IMPORTING LIBRARIES FOR NATURAL LANGUAGE PROCESSING\n",
        "import nltk\n",
        "import re\n",
        "from nltk.corpus import stopwords"
      ],
      "metadata": {
        "execution": {
          "iopub.status.busy": "2022-03-10T10:20:02.782299Z",
          "iopub.execute_input": "2022-03-10T10:20:02.782582Z",
          "iopub.status.idle": "2022-03-10T10:20:03.782133Z",
          "shell.execute_reply.started": "2022-03-10T10:20:02.782555Z",
          "shell.execute_reply": "2022-03-10T10:20:03.781211Z"
        },
        "trusted": true,
        "id": "XPs9x9radgV4"
      },
      "execution_count": 30,
      "outputs": []
    },
    {
      "cell_type": "code",
      "source": [
        "# DOWNLOADING THE STOPWORDS\n",
        "nltk.download('stopwords')"
      ],
      "metadata": {
        "execution": {
          "iopub.status.busy": "2022-03-10T10:20:03.786256Z",
          "iopub.execute_input": "2022-03-10T10:20:03.786675Z",
          "iopub.status.idle": "2022-03-10T10:20:03.986993Z",
          "shell.execute_reply.started": "2022-03-10T10:20:03.786633Z",
          "shell.execute_reply": "2022-03-10T10:20:03.986311Z"
        },
        "trusted": true,
        "colab": {
          "base_uri": "https://localhost:8080/"
        },
        "id": "gT0JcxESdgV4",
        "outputId": "0bcee9f2-9180-4493-8b7f-1bf6ce1187b5"
      },
      "execution_count": 31,
      "outputs": [
        {
          "output_type": "stream",
          "name": "stdout",
          "text": [
            "[nltk_data] Downloading package stopwords to /root/nltk_data...\n",
            "[nltk_data]   Unzipping corpora/stopwords.zip.\n"
          ]
        },
        {
          "output_type": "execute_result",
          "data": {
            "text/plain": [
              "True"
            ]
          },
          "metadata": {},
          "execution_count": 31
        }
      ]
    },
    {
      "cell_type": "code",
      "source": [
        " messages['content']"
      ],
      "metadata": {
        "execution": {
          "iopub.status.busy": "2022-03-10T10:20:03.988196Z",
          "iopub.execute_input": "2022-03-10T10:20:03.988518Z",
          "iopub.status.idle": "2022-03-10T10:20:03.995913Z",
          "shell.execute_reply.started": "2022-03-10T10:20:03.988491Z",
          "shell.execute_reply": "2022-03-10T10:20:03.995033Z"
        },
        "trusted": true,
        "colab": {
          "base_uri": "https://localhost:8080/"
        },
        "id": "wLUqTlJAdgV4",
        "outputId": "bcf645f5-a779-4ba1-81e5-204bc30c0446"
      },
      "execution_count": 32,
      "outputs": [
        {
          "output_type": "execute_result",
          "data": {
            "text/plain": [
              "0        As if there was not enough to do to prepare fo...\n",
              "1        World News | Tue Nov 22, 2016 | 11:54pm IST Ne...\n",
              "2        WARNER--Robert, has been the single most influ...\n",
              "3        Mr. Flynn added, ''What we have to refrain fro...\n",
              "4        “Whatever this miraculous thing is that you’re...\n",
              "                               ...                        \n",
              "19713    X22Report Central Banks Are Ready to Make a Mo...\n",
              "19714    This Congressional Hearing Will Blow You Away!...\n",
              "19715    Former Enemies Japan and Russia to Trade LNG? ...\n",
              "19716    he Shocking Truth About Wall Street Stock Reco...\n",
              "19717    .Law Domains Won’t Boost Your Website’s SEO (B...\n",
              "Name: content, Length: 19718, dtype: object"
            ]
          },
          "metadata": {},
          "execution_count": 32
        }
      ]
    },
    {
      "cell_type": "code",
      "source": [
        ""
      ],
      "metadata": {
        "id": "rEANNCPidgV5"
      },
      "execution_count": 32,
      "outputs": []
    },
    {
      "cell_type": "code",
      "source": [
        "# TEXT PREPROCESSING--> STEMMING, REMOVAL OF STOP WORDS, CONVERTING INTO LOWER CASE\n",
        "from nltk.stem.porter import PorterStemmer\n",
        "ps = PorterStemmer()\n",
        "corpus = []\n",
        "for i in range(0, len(messages)):\n",
        "    review = re.sub('[^a-zA-Z]', ' ', messages['content'][i])\n",
        "    review = review.lower()\n",
        "    review = review.split()\n",
        "    \n",
        "    review = [ps.stem(word) for word in review if not word in stopwords.words('english')]\n",
        "    review = ' '.join(review)\n",
        "    corpus.append(review)"
      ],
      "metadata": {
        "execution": {
          "iopub.status.busy": "2022-03-10T10:20:03.997423Z",
          "iopub.execute_input": "2022-03-10T10:20:03.998023Z",
          "iopub.status.idle": "2022-03-10T10:22:13.983087Z",
          "shell.execute_reply.started": "2022-03-10T10:20:03.997976Z",
          "shell.execute_reply": "2022-03-10T10:22:13.982171Z"
        },
        "trusted": true,
        "id": "Y5NgzTbTdgV5"
      },
      "execution_count": 33,
      "outputs": []
    },
    {
      "cell_type": "code",
      "source": [
        "# LOOKING AT OUR FINAL CORPUS\n",
        "corpus[2]"
      ],
      "metadata": {
        "execution": {
          "iopub.status.busy": "2022-03-10T10:22:13.986691Z",
          "iopub.execute_input": "2022-03-10T10:22:13.987097Z",
          "iopub.status.idle": "2022-03-10T10:22:13.993336Z",
          "shell.execute_reply.started": "2022-03-10T10:22:13.987054Z",
          "shell.execute_reply": "2022-03-10T10:22:13.992357Z"
        },
        "trusted": true,
        "colab": {
          "base_uri": "https://localhost:8080/",
          "height": 35
        },
        "id": "HWL6K2lIdgV6",
        "outputId": "3d5ac0e7-bf13-4196-b6d1-0e212df27dbc"
      },
      "execution_count": 35,
      "outputs": [
        {
          "output_type": "execute_result",
          "data": {
            "application/vnd.google.colaboratory.intrinsic+json": {
              "type": "string"
            },
            "text/plain": [
              "'warner robert singl influenc busi person life irreplac life forev memori larri nagl'"
            ]
          },
          "metadata": {},
          "execution_count": 35
        }
      ]
    },
    {
      "cell_type": "markdown",
      "source": [
        "# ONE HOT REPRESENTATION"
      ],
      "metadata": {
        "id": "dc4zkpKDdgV6"
      }
    },
    {
      "cell_type": "code",
      "source": [
        "from tensorflow.keras.preprocessing.text import one_hot"
      ],
      "metadata": {
        "execution": {
          "iopub.status.busy": "2022-03-10T10:22:13.995193Z",
          "iopub.execute_input": "2022-03-10T10:22:13.995907Z",
          "iopub.status.idle": "2022-03-10T10:22:14.002005Z",
          "shell.execute_reply.started": "2022-03-10T10:22:13.995864Z",
          "shell.execute_reply": "2022-03-10T10:22:14.000840Z"
        },
        "trusted": true,
        "id": "kFhVgD_BdgV6"
      },
      "execution_count": 36,
      "outputs": []
    },
    {
      "cell_type": "code",
      "source": [
        ""
      ],
      "metadata": {
        "id": "GuGxQoedrjjh"
      },
      "execution_count": null,
      "outputs": []
    },
    {
      "cell_type": "code",
      "source": [
        "onehot_repr= [one_hot(words,voc_size)for words in corpus]\n",
        "print(onehot_repr[0])"
      ],
      "metadata": {
        "execution": {
          "iopub.status.busy": "2022-03-10T10:22:14.003591Z",
          "iopub.execute_input": "2022-03-10T10:22:14.004286Z",
          "iopub.status.idle": "2022-03-10T10:22:14.422954Z",
          "shell.execute_reply.started": "2022-03-10T10:22:14.004240Z",
          "shell.execute_reply": "2022-03-10T10:22:14.422024Z"
        },
        "trusted": true,
        "colab": {
          "base_uri": "https://localhost:8080/"
        },
        "id": "rA2GrxCcdgV7",
        "outputId": "a240bec2-af04-45da-a798-a59c9f512001"
      },
      "execution_count": 37,
      "outputs": [
        {
          "output_type": "stream",
          "name": "stdout",
          "text": [
            "[791, 2440, 3028, 1987, 1866, 1293, 2284, 1061, 1055, 225, 1984, 420, 1086, 791, 3665, 299, 225, 2186, 2473, 1450, 1102, 28]\n"
          ]
        }
      ]
    },
    {
      "cell_type": "code",
      "source": [
        ""
      ],
      "metadata": {
        "id": "u-YJU833rku6"
      },
      "execution_count": null,
      "outputs": []
    },
    {
      "cell_type": "markdown",
      "source": [
        "# EMBEDDING REPRESENTATION"
      ],
      "metadata": {
        "id": "JEBraGuCdgV7"
      }
    },
    {
      "cell_type": "code",
      "source": [
        "# SETTING OUR SENTENCE LENGTH = 20\n",
        "sent_length=50\n",
        "embedded_docs=pad_sequences(onehot_repr,padding='pre',maxlen=sent_length)\n",
        "print(embedded_docs)"
      ],
      "metadata": {
        "execution": {
          "iopub.status.busy": "2022-03-10T10:22:14.424217Z",
          "iopub.execute_input": "2022-03-10T10:22:14.424741Z",
          "iopub.status.idle": "2022-03-10T10:22:14.687372Z",
          "shell.execute_reply.started": "2022-03-10T10:22:14.424700Z",
          "shell.execute_reply": "2022-03-10T10:22:14.686646Z"
        },
        "trusted": true,
        "colab": {
          "base_uri": "https://localhost:8080/"
        },
        "id": "SC1dLxj-dgV7",
        "outputId": "6081f0b1-e9e7-488f-9776-68bd91725a1e"
      },
      "execution_count": 38,
      "outputs": [
        {
          "output_type": "stream",
          "name": "stdout",
          "text": [
            "[[   0    0    0 ... 1450 1102   28]\n",
            " [   0    0    0 ... 3846 1221 3062]\n",
            " [   0    0    0 ... 1648 3834 3628]\n",
            " ...\n",
            " [   0    0    0 ... 3943 2133  105]\n",
            " [   0    0    0 ... 1938 1689  314]\n",
            " [   0    0    0 ... 3447 3431 1381]]\n"
          ]
        }
      ]
    },
    {
      "cell_type": "code",
      "source": [
        "len(embedded_docs)"
      ],
      "metadata": {
        "execution": {
          "iopub.status.busy": "2022-03-10T10:22:14.689075Z",
          "iopub.execute_input": "2022-03-10T10:22:14.689435Z",
          "iopub.status.idle": "2022-03-10T10:22:14.696418Z",
          "shell.execute_reply.started": "2022-03-10T10:22:14.689399Z",
          "shell.execute_reply": "2022-03-10T10:22:14.695431Z"
        },
        "trusted": true,
        "id": "oxa8bKyJdgV8"
      },
      "execution_count": null,
      "outputs": []
    },
    {
      "cell_type": "markdown",
      "source": [
        "# CREATING OUR LSTM MODEL"
      ],
      "metadata": {
        "id": "MzAVs-jOdgV8"
      }
    },
    {
      "cell_type": "code",
      "source": [
        "## CREATING OUR LSTM MODEL\n",
        "embedding_vector_features= 40\n",
        "model=Sequential()\n",
        "model.add(Embedding(voc_size,embedding_vector_features,input_length=sent_length)) # making embedding layer\n",
        "model.add(LSTM(100))  # one LSTM Layer with 100 neurons\n",
        "model.add(Dense(1,activation='sigmoid'))\n",
        "model.compile(loss='binary_crossentropy',optimizer='adam',metrics=['accuracy'])\n",
        "print(model.summary())"
      ],
      "metadata": {
        "execution": {
          "iopub.status.busy": "2022-03-10T10:22:14.697868Z",
          "iopub.execute_input": "2022-03-10T10:22:14.698273Z",
          "iopub.status.idle": "2022-03-10T10:22:17.443571Z",
          "shell.execute_reply.started": "2022-03-10T10:22:14.698233Z",
          "shell.execute_reply": "2022-03-10T10:22:17.442810Z"
        },
        "trusted": true,
        "colab": {
          "base_uri": "https://localhost:8080/"
        },
        "id": "iAwwF38TdgV8",
        "outputId": "50d0355c-fcc5-49c5-9e43-564a5824425e"
      },
      "execution_count": 39,
      "outputs": [
        {
          "output_type": "stream",
          "name": "stdout",
          "text": [
            "Model: \"sequential\"\n",
            "_________________________________________________________________\n",
            " Layer (type)                Output Shape              Param #   \n",
            "=================================================================\n",
            " embedding (Embedding)       (None, 50, 40)            160000    \n",
            "                                                                 \n",
            " lstm (LSTM)                 (None, 100)               56400     \n",
            "                                                                 \n",
            " dense (Dense)               (None, 1)                 101       \n",
            "                                                                 \n",
            "=================================================================\n",
            "Total params: 216,501\n",
            "Trainable params: 216,501\n",
            "Non-trainable params: 0\n",
            "_________________________________________________________________\n",
            "None\n"
          ]
        }
      ]
    },
    {
      "cell_type": "code",
      "source": [
        "# CONVERTING X AND Y INTO ARRAYS\n",
        "import numpy as np\n",
        "x_final= np.array(embedded_docs)\n",
        "y_final= np.array(y)\n",
        "x_final.shape, y_final.shape"
      ],
      "metadata": {
        "execution": {
          "iopub.status.busy": "2022-03-10T10:22:17.444802Z",
          "iopub.execute_input": "2022-03-10T10:22:17.445294Z",
          "iopub.status.idle": "2022-03-10T10:22:17.453448Z",
          "shell.execute_reply.started": "2022-03-10T10:22:17.445252Z",
          "shell.execute_reply": "2022-03-10T10:22:17.452629Z"
        },
        "trusted": true,
        "colab": {
          "base_uri": "https://localhost:8080/"
        },
        "id": "xK6PNb8bdgV9",
        "outputId": "a0b15931-4138-4751-955a-22bff6cd354e"
      },
      "execution_count": 61,
      "outputs": [
        {
          "output_type": "execute_result",
          "data": {
            "text/plain": [
              "((19718, 50), (19718,))"
            ]
          },
          "metadata": {},
          "execution_count": 61
        }
      ]
    },
    {
      "cell_type": "code",
      "source": [
        "y_final"
      ],
      "metadata": {
        "colab": {
          "base_uri": "https://localhost:8080/"
        },
        "id": "2h6sSjb1rGr0",
        "outputId": "e821d960-318c-4295-df70-706df2289c17"
      },
      "execution_count": 62,
      "outputs": [
        {
          "output_type": "execute_result",
          "data": {
            "text/plain": [
              "array([1, 1, 1, ..., 0, 0, 0])"
            ]
          },
          "metadata": {},
          "execution_count": 62
        }
      ]
    },
    {
      "cell_type": "code",
      "source": [
        "# SPLITTING THE DATA INTO TRAINING AND TEST SETS\n",
        "from sklearn.model_selection import train_test_split\n",
        "x_train,x_test,y_train,y_test=train_test_split(x_final,y_final,test_size=0.33,random_state=0)"
      ],
      "metadata": {
        "execution": {
          "iopub.status.busy": "2022-03-10T10:22:17.454988Z",
          "iopub.execute_input": "2022-03-10T10:22:17.455670Z",
          "iopub.status.idle": "2022-03-10T10:22:17.466704Z",
          "shell.execute_reply.started": "2022-03-10T10:22:17.455631Z",
          "shell.execute_reply": "2022-03-10T10:22:17.465994Z"
        },
        "trusted": true,
        "id": "lbp0gTNKdgV9"
      },
      "execution_count": 63,
      "outputs": []
    },
    {
      "cell_type": "code",
      "source": [
        "y_train.shape"
      ],
      "metadata": {
        "colab": {
          "base_uri": "https://localhost:8080/"
        },
        "id": "oB91gl3fpyEH",
        "outputId": "012d9a9e-688d-47d5-952a-0946629da203"
      },
      "execution_count": 66,
      "outputs": [
        {
          "output_type": "execute_result",
          "data": {
            "text/plain": [
              "(13211,)"
            ]
          },
          "metadata": {},
          "execution_count": 66
        }
      ]
    },
    {
      "cell_type": "markdown",
      "source": [
        "# MODEL TRAINING"
      ],
      "metadata": {
        "id": "-IFis3dndgV9"
      }
    },
    {
      "cell_type": "code",
      "source": [
        "# FITTING NTO THE MODEL\n",
        "model.fit(x_train,y_train,validation_data=(x_test,y_test),epochs=10,batch_size=64, verbose = True)"
      ],
      "metadata": {
        "trusted": true,
        "colab": {
          "base_uri": "https://localhost:8080/"
        },
        "id": "zL2g_xC7dgV-",
        "outputId": "46ab2191-fae6-436e-ff57-2ec48287b8e0"
      },
      "execution_count": 67,
      "outputs": [
        {
          "output_type": "stream",
          "name": "stdout",
          "text": [
            "Epoch 1/10\n",
            "207/207 [==============================] - 11s 23ms/step - loss: 0.4514 - accuracy: 0.7729 - val_loss: 0.3676 - val_accuracy: 0.8460\n",
            "Epoch 2/10\n",
            "207/207 [==============================] - 4s 20ms/step - loss: 0.2701 - accuracy: 0.8912 - val_loss: 0.3217 - val_accuracy: 0.8658\n",
            "Epoch 3/10\n",
            "207/207 [==============================] - 4s 20ms/step - loss: 0.2149 - accuracy: 0.9154 - val_loss: 0.3344 - val_accuracy: 0.8621\n",
            "Epoch 4/10\n",
            "207/207 [==============================] - 4s 20ms/step - loss: 0.1725 - accuracy: 0.9372 - val_loss: 0.3703 - val_accuracy: 0.8578\n",
            "Epoch 5/10\n",
            "207/207 [==============================] - 4s 20ms/step - loss: 0.1300 - accuracy: 0.9549 - val_loss: 0.4564 - val_accuracy: 0.8445\n",
            "Epoch 6/10\n",
            "207/207 [==============================] - 4s 20ms/step - loss: 0.1074 - accuracy: 0.9637 - val_loss: 0.4675 - val_accuracy: 0.8568\n",
            "Epoch 7/10\n",
            "207/207 [==============================] - 4s 20ms/step - loss: 0.0805 - accuracy: 0.9738 - val_loss: 0.5768 - val_accuracy: 0.8520\n",
            "Epoch 8/10\n",
            "207/207 [==============================] - 4s 21ms/step - loss: 0.0621 - accuracy: 0.9812 - val_loss: 0.6555 - val_accuracy: 0.8488\n",
            "Epoch 9/10\n",
            "207/207 [==============================] - 4s 21ms/step - loss: 0.0430 - accuracy: 0.9873 - val_loss: 0.6458 - val_accuracy: 0.8428\n",
            "Epoch 10/10\n",
            "207/207 [==============================] - 4s 20ms/step - loss: 0.0407 - accuracy: 0.9877 - val_loss: 0.7580 - val_accuracy: 0.8479\n"
          ]
        },
        {
          "output_type": "execute_result",
          "data": {
            "text/plain": [
              "<keras.callbacks.History at 0x7fa1b497d0d0>"
            ]
          },
          "metadata": {},
          "execution_count": 67
        }
      ]
    },
    {
      "cell_type": "code",
      "source": [
        ""
      ],
      "metadata": {
        "id": "9CStTlU_rFaF"
      },
      "execution_count": null,
      "outputs": []
    },
    {
      "cell_type": "code",
      "source": [
        "# OUR PREDICTION VARIABLE\n",
        "y_pred= model.predict(x_test)"
      ],
      "metadata": {
        "trusted": true,
        "id": "EDDE8CXMdgV-"
      },
      "execution_count": 69,
      "outputs": []
    },
    {
      "cell_type": "code",
      "source": [
        "y_pred"
      ],
      "metadata": {
        "trusted": true,
        "colab": {
          "base_uri": "https://localhost:8080/"
        },
        "id": "IWHgTue_dgV-",
        "outputId": "6863aded-7c1c-403c-95ba-e4dd717970e4"
      },
      "execution_count": 70,
      "outputs": [
        {
          "output_type": "execute_result",
          "data": {
            "text/plain": [
              "array([[4.4833374e-04],\n",
              "       [9.8280209e-01],\n",
              "       [9.9990284e-01],\n",
              "       ...,\n",
              "       [1.2782029e-03],\n",
              "       [5.8743805e-01],\n",
              "       [9.3981478e-05]], dtype=float32)"
            ]
          },
          "metadata": {},
          "execution_count": 70
        }
      ]
    },
    {
      "cell_type": "code",
      "source": [
        "y_pred = [int(i > .5) for i in y_pred]"
      ],
      "metadata": {
        "id": "CfhDP5QUvi9W"
      },
      "execution_count": 72,
      "outputs": []
    },
    {
      "cell_type": "code",
      "source": [
        "y_pred[2]"
      ],
      "metadata": {
        "colab": {
          "base_uri": "https://localhost:8080/"
        },
        "id": "-eCPrW1Gvogh",
        "outputId": "d843cc8b-04df-4903-ad59-4f3e429dd255"
      },
      "execution_count": 74,
      "outputs": [
        {
          "output_type": "execute_result",
          "data": {
            "text/plain": [
              "1"
            ]
          },
          "metadata": {},
          "execution_count": 74
        }
      ]
    },
    {
      "cell_type": "code",
      "source": [
        "# IMPORTING LIBRARIES TO SEE THE ACCURACY\n",
        "from sklearn.metrics import confusion_matrix, accuracy_score\n",
        "\n",
        "# PRINTING CONFUSION MATRIX\n",
        "cm= confusion_matrix(y_test,y_pred)\n",
        "print(cm)"
      ],
      "metadata": {
        "trusted": true,
        "colab": {
          "base_uri": "https://localhost:8080/"
        },
        "id": "mVdEfqV_dgV-",
        "outputId": "ccbf09e4-610d-4430-a743-343c8b96c14f"
      },
      "execution_count": 75,
      "outputs": [
        {
          "output_type": "stream",
          "name": "stdout",
          "text": [
            "[[2832  535]\n",
            " [ 455 2685]]\n"
          ]
        }
      ]
    },
    {
      "cell_type": "code",
      "source": [
        "# ACCURACY SCORE\n",
        "ac= accuracy_score(y_test,y_pred)\n",
        "print(ac)"
      ],
      "metadata": {
        "trusted": true,
        "colab": {
          "base_uri": "https://localhost:8080/"
        },
        "id": "AoWTmgLsdgV_",
        "outputId": "344d07ac-d6aa-454b-e31f-7aaabe12a270"
      },
      "execution_count": 76,
      "outputs": [
        {
          "output_type": "stream",
          "name": "stdout",
          "text": [
            "0.8478561549100968\n"
          ]
        }
      ]
    },
    {
      "cell_type": "markdown",
      "source": [
        "##### ACCURACY SCORE= 91.66 %"
      ],
      "metadata": {
        "id": "5iaaQmXZdgV_"
      }
    },
    {
      "cell_type": "markdown",
      "source": [
        "# ADDING DROPOUT LAYER"
      ],
      "metadata": {
        "id": "SnqIEnDbdgV_"
      }
    },
    {
      "cell_type": "code",
      "source": [
        "from tensorflow.keras.layers import Dropout\n"
      ],
      "metadata": {
        "execution": {
          "iopub.status.busy": "2022-03-10T10:19:41.585268Z",
          "iopub.status.idle": "2022-03-10T10:19:41.586020Z"
        },
        "trusted": true,
        "id": "uu8X6xDQdgWA"
      },
      "execution_count": 77,
      "outputs": []
    },
    {
      "cell_type": "code",
      "source": [
        "## CREATING MODEL WITH DROPOUT LAYER\n",
        "embedding_vector_features= 40\n",
        "model=Sequential()\n",
        "model.add(Embedding(voc_size,embedding_vector_features,input_length=sent_length)) # making embedding layer\n",
        "model.add(Dropout(0.3))\n",
        "model.add(LSTM(100))  # one LSTM Layer with 100 neurons\n",
        "model.add(Dense(1,activation='sigmoid'))\n",
        "model.compile(loss='binary_crossentropy',optimizer='adam',metrics=['accuracy'])\n",
        "print(model.summary())"
      ],
      "metadata": {
        "execution": {
          "iopub.status.busy": "2022-03-10T10:19:41.587123Z",
          "iopub.status.idle": "2022-03-10T10:19:41.587857Z"
        },
        "trusted": true,
        "colab": {
          "base_uri": "https://localhost:8080/"
        },
        "id": "DcAvhfO4dgWA",
        "outputId": "bb2b601d-58a1-4bd5-f230-95de131fec59"
      },
      "execution_count": 78,
      "outputs": [
        {
          "output_type": "stream",
          "name": "stdout",
          "text": [
            "Model: \"sequential_1\"\n",
            "_________________________________________________________________\n",
            " Layer (type)                Output Shape              Param #   \n",
            "=================================================================\n",
            " embedding_1 (Embedding)     (None, 50, 40)            160000    \n",
            "                                                                 \n",
            " dropout (Dropout)           (None, 50, 40)            0         \n",
            "                                                                 \n",
            " lstm_1 (LSTM)               (None, 100)               56400     \n",
            "                                                                 \n",
            " dense_1 (Dense)             (None, 1)                 101       \n",
            "                                                                 \n",
            "=================================================================\n",
            "Total params: 216,501\n",
            "Trainable params: 216,501\n",
            "Non-trainable params: 0\n",
            "_________________________________________________________________\n",
            "None\n"
          ]
        }
      ]
    },
    {
      "cell_type": "code",
      "source": [
        "# CONVERTING X AND Y VARIABLES INTO ARRAYS\n",
        "import numpy as np\n",
        "x_final= np.array(embedded_docs)\n",
        "y_final= np.array(y)"
      ],
      "metadata": {
        "execution": {
          "iopub.status.busy": "2022-03-10T10:19:41.588969Z",
          "iopub.status.idle": "2022-03-10T10:19:41.589706Z"
        },
        "trusted": true,
        "id": "9_zPxoA8dgWA"
      },
      "execution_count": null,
      "outputs": []
    },
    {
      "cell_type": "code",
      "source": [
        "from sklearn.model_selection import train_test_split\n",
        "x_train,x_test,y_train,y_test=train_test_split(x_final,y_final,test_size=0.33,random_state=0)"
      ],
      "metadata": {
        "execution": {
          "iopub.status.busy": "2022-03-10T10:19:41.590815Z",
          "iopub.status.idle": "2022-03-10T10:19:41.591563Z"
        },
        "trusted": true,
        "id": "r8eqqHrLdgWA"
      },
      "execution_count": null,
      "outputs": []
    },
    {
      "cell_type": "code",
      "source": [
        "# FITTING INTO THE MODEL\n",
        "model.fit(x_train,y_train,validation_data=(x_test,y_test),epochs=10,batch_size=64)"
      ],
      "metadata": {
        "execution": {
          "iopub.status.busy": "2022-03-10T10:19:41.592668Z",
          "iopub.status.idle": "2022-03-10T10:19:41.593408Z"
        },
        "trusted": true,
        "colab": {
          "base_uri": "https://localhost:8080/"
        },
        "id": "L_hGo1tTdgWB",
        "outputId": "7ee55b10-b2fa-4c85-aceb-36839b8ac680"
      },
      "execution_count": 79,
      "outputs": [
        {
          "output_type": "stream",
          "name": "stdout",
          "text": [
            "Epoch 1/10\n",
            "207/207 [==============================] - 7s 22ms/step - loss: 0.4765 - accuracy: 0.7563 - val_loss: 0.3244 - val_accuracy: 0.8606\n",
            "Epoch 2/10\n",
            "207/207 [==============================] - 4s 20ms/step - loss: 0.2764 - accuracy: 0.8886 - val_loss: 0.3218 - val_accuracy: 0.8703\n",
            "Epoch 3/10\n",
            "207/207 [==============================] - 4s 20ms/step - loss: 0.2260 - accuracy: 0.9126 - val_loss: 0.3242 - val_accuracy: 0.8611\n",
            "Epoch 4/10\n",
            "207/207 [==============================] - 4s 20ms/step - loss: 0.1870 - accuracy: 0.9277 - val_loss: 0.3681 - val_accuracy: 0.8625\n",
            "Epoch 5/10\n",
            "207/207 [==============================] - 4s 20ms/step - loss: 0.1547 - accuracy: 0.9440 - val_loss: 0.4117 - val_accuracy: 0.8506\n",
            "Epoch 6/10\n",
            "207/207 [==============================] - 4s 19ms/step - loss: 0.1269 - accuracy: 0.9540 - val_loss: 0.4545 - val_accuracy: 0.8598\n",
            "Epoch 7/10\n",
            "207/207 [==============================] - 4s 20ms/step - loss: 0.1129 - accuracy: 0.9601 - val_loss: 0.4669 - val_accuracy: 0.8523\n",
            "Epoch 8/10\n",
            "207/207 [==============================] - 4s 20ms/step - loss: 0.0920 - accuracy: 0.9693 - val_loss: 0.4886 - val_accuracy: 0.8558\n",
            "Epoch 9/10\n",
            "207/207 [==============================] - 4s 20ms/step - loss: 0.0804 - accuracy: 0.9728 - val_loss: 0.4987 - val_accuracy: 0.8480\n",
            "Epoch 10/10\n",
            "207/207 [==============================] - 4s 20ms/step - loss: 0.0653 - accuracy: 0.9773 - val_loss: 0.6348 - val_accuracy: 0.8465\n"
          ]
        },
        {
          "output_type": "execute_result",
          "data": {
            "text/plain": [
              "<keras.callbacks.History at 0x7fa1b7a84e50>"
            ]
          },
          "metadata": {},
          "execution_count": 79
        }
      ]
    },
    {
      "cell_type": "code",
      "source": [
        "# PREDICTION MODEL\n",
        "y_pred= model.predict(x_test)\n",
        "y_pred = [int(i > .5) for i in y_pred]"
      ],
      "metadata": {
        "execution": {
          "iopub.status.busy": "2022-03-10T10:19:41.594528Z",
          "iopub.status.idle": "2022-03-10T10:19:41.595264Z"
        },
        "trusted": true,
        "id": "4Ag5wnCsdgWB"
      },
      "execution_count": 82,
      "outputs": []
    },
    {
      "cell_type": "code",
      "source": [
        "from sklearn.metrics import confusion_matrix, accuracy_score\n",
        "\n",
        "# PRINTING CONFUSION MATRIX\n",
        "cmm= confusion_matrix(y_test,y_pred)\n",
        "print(cmm)"
      ],
      "metadata": {
        "execution": {
          "iopub.status.busy": "2022-03-10T10:19:41.596374Z",
          "iopub.status.idle": "2022-03-10T10:19:41.597120Z"
        },
        "trusted": true,
        "colab": {
          "base_uri": "https://localhost:8080/"
        },
        "id": "FTFyAQ9xdgWB",
        "outputId": "c17492e4-bbdc-4c40-d09c-62be74f3fba8"
      },
      "execution_count": 83,
      "outputs": [
        {
          "output_type": "stream",
          "name": "stdout",
          "text": [
            "[[2915  452]\n",
            " [ 547 2593]]\n"
          ]
        }
      ]
    },
    {
      "cell_type": "code",
      "source": [
        "# ACCURACY SCORE\n",
        "ac= accuracy_score(y_test,y_pred)\n",
        "print(ac)"
      ],
      "metadata": {
        "execution": {
          "iopub.status.busy": "2022-03-10T10:19:41.598209Z",
          "iopub.status.idle": "2022-03-10T10:19:41.598959Z"
        },
        "trusted": true,
        "colab": {
          "base_uri": "https://localhost:8080/"
        },
        "id": "nx8MYDqmdgWC",
        "outputId": "93e41172-50eb-4d77-e61c-8a9fc3e0f4ef"
      },
      "execution_count": 84,
      "outputs": [
        {
          "output_type": "stream",
          "name": "stdout",
          "text": [
            "0.8464730290456431\n"
          ]
        }
      ]
    },
    {
      "cell_type": "code",
      "source": [
        "x_test[3]"
      ],
      "metadata": {
        "colab": {
          "base_uri": "https://localhost:8080/"
        },
        "id": "5ZaSDoYNw0WA",
        "outputId": "5a53068c-1cd1-4197-8077-7c270ab9123b"
      },
      "execution_count": 86,
      "outputs": [
        {
          "output_type": "execute_result",
          "data": {
            "text/plain": [
              "array([   0,    0,    0,    0,    0,    0,    0,    0,    0,    0,    0,\n",
              "          0,    0,    0,    0,    0,    0,    0,    0,    0,    0,    0,\n",
              "          0,    0,    0,    0, 3730,  198, 1385, 3012, 1866, 3293,  633,\n",
              "       1558, 3927, 2366,  756, 2718,  650, 2802, 2284, 3293, 1416,  184,\n",
              "       2729, 1165,  536,  564, 3293,  955], dtype=int32)"
            ]
          },
          "metadata": {},
          "execution_count": 86
        }
      ]
    },
    {
      "cell_type": "code",
      "source": [
        "y_pred_= model.predict(x_test[[3]])\n",
        "y_pred_ = [int(i > .5) for i in y_pred]"
      ],
      "metadata": {
        "id": "PF5qBgzKw22B"
      },
      "execution_count": 90,
      "outputs": []
    },
    {
      "cell_type": "code",
      "source": [
        "y_pred_"
      ],
      "metadata": {
        "colab": {
          "base_uri": "https://localhost:8080/"
        },
        "id": "dQ1aX4Tsw9a2",
        "outputId": "3aaa89bb-3371-4ee1-f6ab-d89543750100"
      },
      "execution_count": 91,
      "outputs": [
        {
          "output_type": "execute_result",
          "data": {
            "text/plain": [
              "[0]"
            ]
          },
          "metadata": {},
          "execution_count": 91
        }
      ]
    },
    {
      "cell_type": "code",
      "source": [
        "x_pp = \"According to a report by the news agency Kiev Independent, the Ukrainian armed forces have said that over 12,000 Russian troops have been killed. They have also said that over 1,105 armoured personnel carriers, 526 vehicles and 60 fuel tanks have also been destroyed.\""
      ],
      "metadata": {
        "id": "OmzqdNoWxHTG"
      },
      "execution_count": 94,
      "outputs": []
    },
    {
      "cell_type": "code",
      "source": [
        "input = [x_pp]"
      ],
      "metadata": {
        "id": "IAm6ofxDzTzE"
      },
      "execution_count": 96,
      "outputs": []
    },
    {
      "cell_type": "code",
      "source": [
        "i"
      ],
      "metadata": {
        "id": "yVVYh8H2zUBe"
      },
      "execution_count": null,
      "outputs": []
    },
    {
      "cell_type": "code",
      "source": [
        "# TEXT PREPROCESSING--> STEMMING, REMOVAL OF STOP WORDS, CONVERTING INTO LOWER CASE\n",
        "from nltk.stem.porter import PorterStemmer\n",
        "ps = PorterStemmer()\n",
        "corpus = []\n",
        "for i in range(0, len(input)):\n",
        "    review = re.sub('[^a-zA-Z]', ' ',input)\n",
        "    review = review.lower()\n",
        "    review = review.split()\n",
        "    \n",
        "    review = [ps.stem(word) for word in review if not word in stopwords.words('english')]\n",
        "    review = ' '.join(review)\n",
        "    corpus.append(review)\n",
        "\n",
        "\n",
        "onehot_repr= [one_hot(words,voc_size)for words in corpus]\n",
        "print(onehot_repr[0]) \n",
        "\n",
        "sent_length=50\n",
        "embedded_docs=pad_sequences(onehot_repr,padding='pre',maxlen=sent_length)\n",
        "print(embedded_docs)"
      ],
      "metadata": {
        "colab": {
          "base_uri": "https://localhost:8080/",
          "height": 357
        },
        "id": "pMt84AYGxVBO",
        "outputId": "b6991c05-598b-4431-ce8d-0585859a663b"
      },
      "execution_count": 97,
      "outputs": [
        {
          "output_type": "error",
          "ename": "TypeError",
          "evalue": "ignored",
          "traceback": [
            "\u001b[0;31m---------------------------------------------------------------------------\u001b[0m",
            "\u001b[0;31mTypeError\u001b[0m                                 Traceback (most recent call last)",
            "\u001b[0;32m<ipython-input-97-f273f48eed1a>\u001b[0m in \u001b[0;36m<module>\u001b[0;34m()\u001b[0m\n\u001b[1;32m      4\u001b[0m \u001b[0mcorpus\u001b[0m \u001b[0;34m=\u001b[0m \u001b[0;34m[\u001b[0m\u001b[0;34m]\u001b[0m\u001b[0;34m\u001b[0m\u001b[0;34m\u001b[0m\u001b[0m\n\u001b[1;32m      5\u001b[0m \u001b[0;32mfor\u001b[0m \u001b[0mi\u001b[0m \u001b[0;32min\u001b[0m \u001b[0mrange\u001b[0m\u001b[0;34m(\u001b[0m\u001b[0;36m0\u001b[0m\u001b[0;34m,\u001b[0m \u001b[0mlen\u001b[0m\u001b[0;34m(\u001b[0m\u001b[0minput\u001b[0m\u001b[0;34m)\u001b[0m\u001b[0;34m)\u001b[0m\u001b[0;34m:\u001b[0m\u001b[0;34m\u001b[0m\u001b[0;34m\u001b[0m\u001b[0m\n\u001b[0;32m----> 6\u001b[0;31m     \u001b[0mreview\u001b[0m \u001b[0;34m=\u001b[0m \u001b[0mre\u001b[0m\u001b[0;34m.\u001b[0m\u001b[0msub\u001b[0m\u001b[0;34m(\u001b[0m\u001b[0;34m'[^a-zA-Z]'\u001b[0m\u001b[0;34m,\u001b[0m \u001b[0;34m' '\u001b[0m\u001b[0;34m,\u001b[0m\u001b[0minput\u001b[0m\u001b[0;34m)\u001b[0m\u001b[0;34m\u001b[0m\u001b[0;34m\u001b[0m\u001b[0m\n\u001b[0m\u001b[1;32m      7\u001b[0m     \u001b[0mreview\u001b[0m \u001b[0;34m=\u001b[0m \u001b[0mreview\u001b[0m\u001b[0;34m.\u001b[0m\u001b[0mlower\u001b[0m\u001b[0;34m(\u001b[0m\u001b[0;34m)\u001b[0m\u001b[0;34m\u001b[0m\u001b[0;34m\u001b[0m\u001b[0m\n\u001b[1;32m      8\u001b[0m     \u001b[0mreview\u001b[0m \u001b[0;34m=\u001b[0m \u001b[0mreview\u001b[0m\u001b[0;34m.\u001b[0m\u001b[0msplit\u001b[0m\u001b[0;34m(\u001b[0m\u001b[0;34m)\u001b[0m\u001b[0;34m\u001b[0m\u001b[0;34m\u001b[0m\u001b[0m\n",
            "\u001b[0;32m/usr/lib/python3.7/re.py\u001b[0m in \u001b[0;36msub\u001b[0;34m(pattern, repl, string, count, flags)\u001b[0m\n\u001b[1;32m    192\u001b[0m     \u001b[0ma\u001b[0m \u001b[0mcallable\u001b[0m\u001b[0;34m,\u001b[0m \u001b[0mit\u001b[0m\u001b[0;31m'\u001b[0m\u001b[0ms\u001b[0m \u001b[0mpassed\u001b[0m \u001b[0mthe\u001b[0m \u001b[0mMatch\u001b[0m \u001b[0mobject\u001b[0m \u001b[0;32mand\u001b[0m \u001b[0mmust\u001b[0m \u001b[0;32mreturn\u001b[0m\u001b[0;34m\u001b[0m\u001b[0;34m\u001b[0m\u001b[0m\n\u001b[1;32m    193\u001b[0m     a replacement string to be used.\"\"\"\n\u001b[0;32m--> 194\u001b[0;31m     \u001b[0;32mreturn\u001b[0m \u001b[0m_compile\u001b[0m\u001b[0;34m(\u001b[0m\u001b[0mpattern\u001b[0m\u001b[0;34m,\u001b[0m \u001b[0mflags\u001b[0m\u001b[0;34m)\u001b[0m\u001b[0;34m.\u001b[0m\u001b[0msub\u001b[0m\u001b[0;34m(\u001b[0m\u001b[0mrepl\u001b[0m\u001b[0;34m,\u001b[0m \u001b[0mstring\u001b[0m\u001b[0;34m,\u001b[0m \u001b[0mcount\u001b[0m\u001b[0;34m)\u001b[0m\u001b[0;34m\u001b[0m\u001b[0;34m\u001b[0m\u001b[0m\n\u001b[0m\u001b[1;32m    195\u001b[0m \u001b[0;34m\u001b[0m\u001b[0m\n\u001b[1;32m    196\u001b[0m \u001b[0;32mdef\u001b[0m \u001b[0msubn\u001b[0m\u001b[0;34m(\u001b[0m\u001b[0mpattern\u001b[0m\u001b[0;34m,\u001b[0m \u001b[0mrepl\u001b[0m\u001b[0;34m,\u001b[0m \u001b[0mstring\u001b[0m\u001b[0;34m,\u001b[0m \u001b[0mcount\u001b[0m\u001b[0;34m=\u001b[0m\u001b[0;36m0\u001b[0m\u001b[0;34m,\u001b[0m \u001b[0mflags\u001b[0m\u001b[0;34m=\u001b[0m\u001b[0;36m0\u001b[0m\u001b[0;34m)\u001b[0m\u001b[0;34m:\u001b[0m\u001b[0;34m\u001b[0m\u001b[0;34m\u001b[0m\u001b[0m\n",
            "\u001b[0;31mTypeError\u001b[0m: expected string or bytes-like object"
          ]
        }
      ]
    },
    {
      "cell_type": "code",
      "source": [
        ""
      ],
      "metadata": {
        "id": "I4adkGe3zj54"
      },
      "execution_count": null,
      "outputs": []
    }
  ]
}